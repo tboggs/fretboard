{
 "cells": [
  {
   "cell_type": "markdown",
   "metadata": {},
   "source": [
    "```\n",
    "        =============================================================================\n",
    "E     E||---|---|-G-|---|-A-|---|---|-C-|---|-D-|---|-E-|---|---|-G-|---|-A-|---|---|\n",
    "B      ||-C-|---|-D-|---|-E-|---|---|-G-|---|-A-|---|---|-C-|---|-D-|---|-E-|---|---|\n",
    "G     G||---|-A-|---|---|-C-|---|-D-|---|-E-|---|---|-G-|---|-A-|---|---|-C-|---|-D-|\n",
    "D     D||---|-E-|---|---|-G-|---|-A-|---|---|-C-|---|-D-|---|-E-|---|---|-G-|---|-A-|\n",
    "A     A||---|---|-C-|---|-D-|---|-E-|---|---|-G-|---|-A-|---|---|-C-|---|-D-|---|-E-|\n",
    "E     E||---|---|-G-|---|-A-|---|---|-C-|---|-D-|---|-E-|---|---|-G-|---|-A-|---|---|\n",
    "        =============================================================================\n",
    "                  3       5       7       9          12          15      17      19 \n",
    "```\n",
    "\n",
    "# The fretboard python module\n",
    "\n",
    "The `fretboard` module is a relatively simple python module for displaying notes and scales relative to a guitar's\n",
    "fretboard. It currently supports ASCII output.\n",
    "\n",
    "## Notes\n",
    "\n",
    "Before getting to scales and displays, it is useful to know how the module handles representations of musical notes.\n",
    "The `fretboard` module doesn't deal with the acoustic pitch of notes; rather it represents notes in terms of their number of semitones relative to a C reference.\n",
    "\n",
    "\n",
    "### Creating notes by name\n",
    "Notes can be created either by naming the note and optionally appending \"#\" or \"b\" to indicate a sharp or flat note."
   ]
  },
  {
   "cell_type": "code",
   "execution_count": 1,
   "metadata": {},
   "outputs": [
    {
     "name": "stdout",
     "output_type": "stream",
     "text": [
      "C\n"
     ]
    }
   ],
   "source": [
    "from fretboard import *\n",
    "c = Note('C')\n",
    "print (c)"
   ]
  },
  {
   "cell_type": "code",
   "execution_count": 2,
   "metadata": {},
   "outputs": [
    {
     "data": {
      "text/plain": [
       "C#"
      ]
     },
     "execution_count": 2,
     "metadata": {},
     "output_type": "execute_result"
    }
   ],
   "source": [
    "Note('C#')"
   ]
  },
  {
   "cell_type": "code",
   "execution_count": 3,
   "metadata": {},
   "outputs": [
    {
     "data": {
      "text/plain": [
       "Db"
      ]
     },
     "execution_count": 3,
     "metadata": {},
     "output_type": "execute_result"
    }
   ],
   "source": [
    "Note('Db')"
   ]
  },
  {
   "cell_type": "code",
   "execution_count": 4,
   "metadata": {},
   "outputs": [
    {
     "data": {
      "text/plain": [
       "C"
      ]
     },
     "execution_count": 4,
     "metadata": {},
     "output_type": "execute_result"
    }
   ],
   "source": [
    "Note('B#')"
   ]
  },
  {
   "cell_type": "markdown",
   "metadata": {},
   "source": [
    "If you like, you can use multiple sharps or flats."
   ]
  },
  {
   "cell_type": "code",
   "execution_count": 5,
   "metadata": {},
   "outputs": [
    {
     "data": {
      "text/plain": [
       "(C#, D, C)"
      ]
     },
     "execution_count": 5,
     "metadata": {},
     "output_type": "execute_result"
    }
   ],
   "source": [
    "Note('B##'), Note('B###'), Note('B##b')"
   ]
  },
  {
   "cell_type": "markdown",
   "metadata": {},
   "source": [
    "### Creating relative notes\n",
    "\n",
    "Notes can also be createde by specifying an interval (in number of semitones) relative to another note. For example, F is 5 semitones above C."
   ]
  },
  {
   "cell_type": "code",
   "execution_count": 6,
   "metadata": {},
   "outputs": [
    {
     "name": "stdout",
     "output_type": "stream",
     "text": [
      "F\n"
     ]
    }
   ],
   "source": [
    "f = c + 5\n",
    "print (f)"
   ]
  },
  {
   "cell_type": "markdown",
   "metadata": {},
   "source": [
    "Adding 12 semitones gets us back to the same note."
   ]
  },
  {
   "cell_type": "code",
   "execution_count": 7,
   "metadata": {},
   "outputs": [
    {
     "name": "stdout",
     "output_type": "stream",
     "text": [
      "F\n"
     ]
    }
   ],
   "source": [
    "ff = f + 12\n",
    "print (ff)"
   ]
  },
  {
   "cell_type": "markdown",
   "metadata": {},
   "source": [
    "### Intervals\n",
    "\n",
    "We can also take the difference of two notes, which yields the number of semitones between the notes."
   ]
  },
  {
   "cell_type": "code",
   "execution_count": 8,
   "metadata": {},
   "outputs": [
    {
     "name": "stdout",
     "output_type": "stream",
     "text": [
      "17\n"
     ]
    }
   ],
   "source": [
    "print (ff - c)"
   ]
  },
  {
   "cell_type": "markdown",
   "metadata": {},
   "source": [
    "Note that the interval printed above is the total number of semitones (which can span more than one octave) and can be positive or negative. If we want the to know the simple (within-octave) interval from a note up to the next instance of another note, the `interval` method (or function) can be used)."
   ]
  },
  {
   "cell_type": "code",
   "execution_count": 9,
   "metadata": {},
   "outputs": [
    {
     "name": "stdout",
     "output_type": "stream",
     "text": [
      "5\n"
     ]
    }
   ],
   "source": [
    "print (c.interval(f))"
   ]
  },
  {
   "cell_type": "code",
   "execution_count": 10,
   "metadata": {},
   "outputs": [
    {
     "name": "stdout",
     "output_type": "stream",
     "text": [
      "7\n"
     ]
    }
   ],
   "source": [
    "print (f.interval(c))"
   ]
  },
  {
   "cell_type": "markdown",
   "metadata": {},
   "source": [
    "## Scales\n",
    "\n",
    "The main purpose of this module is to display scales over a fretboard diagram. Lets take a look at the `Major` scale in the key of C."
   ]
  },
  {
   "cell_type": "code",
   "execution_count": 11,
   "metadata": {},
   "outputs": [
    {
     "name": "stdout",
     "output_type": "stream",
     "text": [
      "[C, D, E, F, G, A, B]\n"
     ]
    }
   ],
   "source": [
    "c_maj = Major('C')\n",
    "print (c_maj)"
   ]
  },
  {
   "cell_type": "markdown",
   "metadata": {},
   "source": [
    "We can also create different modes of the diatonic scale. For example, the minor scale is just the sixth mode of the diatonic scale."
   ]
  },
  {
   "cell_type": "code",
   "execution_count": 12,
   "metadata": {},
   "outputs": [
    {
     "name": "stdout",
     "output_type": "stream",
     "text": [
      "[C, D, D#, F, G, G#, A#]\n"
     ]
    }
   ],
   "source": [
    "c_min = Diatonic('C', mode=6)\n",
    "print (c_min)"
   ]
  },
  {
   "cell_type": "markdown",
   "metadata": {},
   "source": [
    "There is also a `Minor` scale class so you can save some typing (and don't have to remember which mode of the major scale it is). In addition to the `Major` and `Minor`, there are also classes for `HarmonicMinor`, `Pentatonic`, and `Blues` scales."
   ]
  },
  {
   "cell_type": "code",
   "execution_count": 13,
   "metadata": {},
   "outputs": [
    {
     "name": "stdout",
     "output_type": "stream",
     "text": [
      "[A, C, D, E, G]\n"
     ]
    }
   ],
   "source": [
    "a_pmin = MinorPentatonic('A')\n",
    "print (a_pmin)"
   ]
  },
  {
   "cell_type": "markdown",
   "metadata": {},
   "source": [
    "The `Blues` scale adds a flat fifth (the blue note) to the pentatonic minor."
   ]
  },
  {
   "cell_type": "code",
   "execution_count": 14,
   "metadata": {},
   "outputs": [
    {
     "name": "stdout",
     "output_type": "stream",
     "text": [
      "[A, C, D, Eb, E, G]\n"
     ]
    }
   ],
   "source": [
    "a_blues = Blues('A')\n",
    "print (a_blues)"
   ]
  },
  {
   "cell_type": "markdown",
   "metadata": {},
   "source": [
    "To make the scales useful, we have the ability to test for membership."
   ]
  },
  {
   "cell_type": "code",
   "execution_count": 15,
   "metadata": {},
   "outputs": [
    {
     "data": {
      "text/plain": [
       "True"
      ]
     },
     "execution_count": 15,
     "metadata": {},
     "output_type": "execute_result"
    }
   ],
   "source": [
    "'C' in a_blues"
   ]
  },
  {
   "cell_type": "code",
   "execution_count": 16,
   "metadata": {},
   "outputs": [
    {
     "data": {
      "text/plain": [
       "False"
      ]
     },
     "execution_count": 16,
     "metadata": {},
     "output_type": "execute_result"
    }
   ],
   "source": [
    "'B' in a_blues"
   ]
  },
  {
   "cell_type": "markdown",
   "metadata": {},
   "source": [
    "We can also get the interval of a given note with respect to the scale."
   ]
  },
  {
   "cell_type": "code",
   "execution_count": 17,
   "metadata": {},
   "outputs": [
    {
     "name": "stdout",
     "output_type": "stream",
     "text": [
      "m7\n"
     ]
    }
   ],
   "source": [
    "print (a_blues.get_interval_name('G'))"
   ]
  },
  {
   "cell_type": "markdown",
   "metadata": {},
   "source": [
    "## Displaying Notes and Scales\n",
    "\n",
    "The `fretboard` module supports printing fretboard diagrams to the terminal output (`stdout`) via the `console` submodule. The quickest way to display simple scale diagrams is visa the `show_scale` function."
   ]
  },
  {
   "cell_type": "code",
   "execution_count": 18,
   "metadata": {},
   "outputs": [
    {
     "name": "stdout",
     "output_type": "stream",
     "text": [
      "        =============================================================================\n",
      "E     E||-F-|---|-G-|---|-A-|---|-B-|-C-|---|-D-|---|-E-|-F-|---|-G-|---|-A-|---|-B-|\n",
      "B     B||-C-|---|-D-|---|-E-|-F-|---|-G-|---|-A-|---|-B-|-C-|---|-D-|---|-E-|-F-|---|\n",
      "G     G||---|-A-|---|-B-|-C-|---|-D-|---|-E-|-F-|---|-G-|---|-A-|---|-B-|-C-|---|-D-|\n",
      "D     D||---|-E-|-F-|---|-G-|---|-A-|---|-B-|-C-|---|-D-|---|-E-|-F-|---|-G-|---|-A-|\n",
      "A     A||---|-B-|-C-|---|-D-|---|-E-|-F-|---|-G-|---|-A-|---|-B-|-C-|---|-D-|---|-E-|\n",
      "E     E||-F-|---|-G-|---|-A-|---|-B-|-C-|---|-D-|---|-E-|-F-|---|-G-|---|-A-|---|-B-|\n",
      "        =============================================================================\n",
      "                  3       5       7       9          12          15      17      19 \n"
     ]
    }
   ],
   "source": [
    "console.show_scale(Minor('A'))"
   ]
  },
  {
   "cell_type": "code",
   "execution_count": 19,
   "metadata": {},
   "outputs": [
    {
     "name": "stdout",
     "output_type": "stream",
     "text": [
      "        =============================================================================\n",
      "D    M2||---|M3-|-4-|---|-5-|---|M6-|---|M7-|-R-|---|M2-|---|M3-|-4-|---|-5-|---|M6-|\n",
      "A    M6||---|M7-|-R-|---|M2-|---|M3-|-4-|---|-5-|---|M6-|---|M7-|-R-|---|M2-|---|M3-|\n",
      "G     5||---|M6-|---|M7-|-R-|---|M2-|---|M3-|-4-|---|-5-|---|M6-|---|M7-|-R-|---|M2-|\n",
      "D    M2||---|M3-|-4-|---|-5-|---|M6-|---|M7-|-R-|---|M2-|---|M3-|-4-|---|-5-|---|M6-|\n",
      "A    M6||---|M7-|-R-|---|M2-|---|M3-|-4-|---|-5-|---|M6-|---|M7-|-R-|---|M2-|---|M3-|\n",
      "D    M2||---|M3-|-4-|---|-5-|---|M6-|---|M7-|-R-|---|M2-|---|M3-|-4-|---|-5-|---|M6-|\n",
      "        =============================================================================\n",
      "                  3       5       7       9          12          15      17      19 \n"
     ]
    }
   ],
   "source": [
    "console.show_scale(Major('C'), tuning='D A D G A D', fmt='interval')"
   ]
  },
  {
   "cell_type": "markdown",
   "metadata": {},
   "source": [
    "There are various optional `show_scale` arguments that can be used to customize the display. The `fmt`\n",
    "argument can be any of the following:\n",
    "\n",
    "- \"note\" (default) - display the name of each note\n",
    "- \"interval\" - display name of the interval of each note with respect to the scale key\n",
    "- `<text char>` - display the specified character (e.g., '*') for each note\n",
    "- `<callable>` - display the return value of the callable oject applied to each `Fret` object of the display\n",
    "\n",
    "If a callable object is given for `fmt`, it is passed a `Fret` object that has the following attributes:\n",
    "\n",
    "- `note` - the `Note` object associated with the fret\n",
    "- `string` - the number of the string associated with the fret\n",
    "- `number` - the number of the fret (zero indicates open string)\n",
    "\n",
    "For example, let's display A Minor Pentatonic with \"R\" displayed for the root note and \"*\" for all others."
   ]
  },
  {
   "cell_type": "code",
   "execution_count": 20,
   "metadata": {},
   "outputs": [
    {
     "name": "stdout",
     "output_type": "stream",
     "text": [
      "        =============================================================================\n",
      "E     *||---|---|-*-|---|-R-|---|---|-*-|---|-*-|---|-*-|---|---|-*-|---|-R-|---|---|\n",
      "B      ||-*-|---|-*-|---|-*-|---|---|-*-|---|-R-|---|---|-*-|---|-*-|---|-*-|---|---|\n",
      "G     *||---|-R-|---|---|-*-|---|-*-|---|-*-|---|---|-*-|---|-R-|---|---|-*-|---|-*-|\n",
      "D     *||---|-*-|---|---|-*-|---|-R-|---|---|-*-|---|-*-|---|-*-|---|---|-*-|---|-R-|\n",
      "A     R||---|---|-*-|---|-*-|---|-*-|---|---|-*-|---|-R-|---|---|-*-|---|-*-|---|-*-|\n",
      "E     *||---|---|-*-|---|-R-|---|---|-*-|---|-*-|---|-*-|---|---|-*-|---|-R-|---|---|\n",
      "        =============================================================================\n",
      "                  3       5       7       9          12          15      17      19 \n"
     ]
    }
   ],
   "source": [
    "scale = MinorPentatonic('A')\n",
    "console.show_scale(scale, fmt=lambda f: 'R' if f.note == scale.root else '*')"
   ]
  },
  {
   "cell_type": "markdown",
   "metadata": {},
   "source": [
    "Let's display scale intervals for Box 2 of the A Minor Pentatonic scale."
   ]
  },
  {
   "cell_type": "code",
   "execution_count": 21,
   "metadata": {},
   "outputs": [
    {
     "name": "stdout",
     "output_type": "stream",
     "text": [
      "        =============================================================================\n",
      "E      ||---|---|---|---|---|---|---|m3-|---|-4-|---|---|---|---|---|---|---|---|---|\n",
      "B      ||---|---|---|---|---|---|---|m7-|---|-R-|---|---|---|---|---|---|---|---|---|\n",
      "G      ||---|---|---|---|---|---|-4-|---|-5-|---|---|---|---|---|---|---|---|---|---|\n",
      "D      ||---|---|---|---|---|---|-R-|---|---|m3-|---|---|---|---|---|---|---|---|---|\n",
      "A      ||---|---|---|---|---|---|-5-|---|---|m7-|---|---|---|---|---|---|---|---|---|\n",
      "E      ||---|---|---|---|---|---|---|m3-|---|-4-|---|---|---|---|---|---|---|---|---|\n",
      "        =============================================================================\n",
      "                  3       5       7       9          12          15      17      19 \n"
     ]
    }
   ],
   "source": [
    "console.show_scale(scale, fmt=lambda f: scale.get_interval_name(f.note) if f.number in range(7, 11) else None)"
   ]
  },
  {
   "cell_type": "markdown",
   "metadata": {},
   "source": [
    "The `show_scale` function is a convenient wrapper around the `Console` class. To have greater control\n",
    "over the display, we can work with a Console object directly. We'll create one and change the fill characters to be just empty space."
   ]
  },
  {
   "cell_type": "code",
   "execution_count": 22,
   "metadata": {},
   "outputs": [
    {
     "name": "stdout",
     "output_type": "stream",
     "text": [
      "        =============================================================================\n",
      "E     E||   |   | G |   | A |   |   | C |   | D |   | E |   |   | G |   | A |   |   |\n",
      "B      || C |   | D |   | E |   |   | G |   | A |   |   | C |   | D |   | E |   |   |\n",
      "G     G||   | A |   |   | C |   | D |   | E |   |   | G |   | A |   |   | C |   | D |\n",
      "D     D||   | E |   |   | G |   | A |   |   | C |   | D |   | E |   |   | G |   | A |\n",
      "A     A||   |   | C |   | D |   | E |   |   | G |   | A |   |   | C |   | D |   | E |\n",
      "E     E||   |   | G |   | A |   |   | C |   | D |   | E |   |   | G |   | A |   |   |\n",
      "        =============================================================================\n",
      "                  3       5       7       9          12          15      17      19 \n"
     ]
    }
   ],
   "source": [
    "c = Console()\n",
    "c.fret_fill_char = ' '\n",
    "c.fret_empty_fill_char = ' '\n",
    "c.display_scale(scale)\n",
    "c.show()"
   ]
  },
  {
   "cell_type": "markdown",
   "metadata": {},
   "source": [
    "The `Console` class also has a `display_fret` method that allows us to control display of individual frets. Let's use that to display a C chord."
   ]
  },
  {
   "cell_type": "code",
   "execution_count": 23,
   "metadata": {},
   "outputs": [
    {
     "name": "stdout",
     "output_type": "stream",
     "text": [
      "        =====================\n",
      "E     E||---|---|---|---|---|\n",
      "B      ||-C-|---|---|---|---|\n",
      "G     G||---|---|---|---|---|\n",
      "D      ||---|-E-|---|---|---|\n",
      "A      ||---|---|-C-|---|---|\n",
      "E     x||---|---|---|---|---|\n",
      "        =====================\n",
      "                  3       5 \n"
     ]
    }
   ],
   "source": [
    "c = Console()\n",
    "for (s, f) in [(1, 0), (2, 1), (3, 0), (4, 2), (5, 3)]:\n",
    "    c.display_fret(s, f)\n",
    "c.display_fret(6, 0, 'x')\n",
    "c.show(fmax=5)"
   ]
  },
  {
   "cell_type": "markdown",
   "metadata": {},
   "source": [
    "Finally, the `Console.show` method prints the display to `stdout`. To get the display string directly, use the `get_display` method instead."
   ]
  },
  {
   "cell_type": "code",
   "execution_count": 24,
   "metadata": {},
   "outputs": [
    {
     "name": "stdout",
     "output_type": "stream",
     "text": [
      "        =====================\n",
      "E     E||---|---|---|---|---|\n",
      "B      ||-C-|---|---|---|---|\n",
      "G     G||---|---|---|---|---|\n",
      "D      ||---|-E-|---|---|---|\n",
      "A      ||---|---|-C-|---|---|\n",
      "E     x||---|---|---|---|---|\n",
      "        =====================\n",
      "                  3       5 \n"
     ]
    }
   ],
   "source": [
    "text = c.get_display(fmax=5)\n",
    "print (text)"
   ]
  }
 ],
 "metadata": {
  "kernelspec": {
   "display_name": "Python 3",
   "language": "python",
   "name": "python3"
  },
  "language_info": {
   "codemirror_mode": {
    "name": "ipython",
    "version": 3
   },
   "file_extension": ".py",
   "mimetype": "text/x-python",
   "name": "python",
   "nbconvert_exporter": "python",
   "pygments_lexer": "ipython3",
   "version": "3.6.7"
  }
 },
 "nbformat": 4,
 "nbformat_minor": 1
}
